{
 "cells": [
  {
   "cell_type": "markdown",
   "id": "11b52016",
   "metadata": {},
   "source": [
    "# Stock Market Time Series Analysis\n",
    "\n",
    "This notebook provides a comprehensive analysis of stock market data using:\n",
    "1. Technical indicators (SMA, EMA, RSI, MACD, Bollinger Bands)\n",
    "2. Statistical analysis and visualization\n",
    "3. Time series decomposition and stationarity tests\n",
    "4. ARIMA modeling"
   ]
  },
  {
   "cell_type": "code",
   "execution_count": 1,
   "id": "2f6a05c8",
   "metadata": {},
   "outputs": [],
   "source": [
    "import sys\n",
    "import os\n",
    "import pandas as pd\n",
    "import numpy as np\n",
    "import plotly.graph_objects as go\n",
    "\n",
    "\n",
    "# Add project root to path\n",
    "project_root = os.path.abspath(os.path.join(os.getcwd(), '..'))\n",
    "if project_root not in sys.path:\n",
    "    sys.path.append(project_root)\n",
    "\n"
   ]
  },
  {
   "cell_type": "code",
   "execution_count": 4,
   "id": "7fa61394",
   "metadata": {},
   "outputs": [
    {
     "ename": "ImportError",
     "evalue": "cannot import name 'NaN' from 'numpy' (d:\\Week1\\Sentiment-analysis-for-stock\\env\\Lib\\site-packages\\numpy\\__init__.py)",
     "output_type": "error",
     "traceback": [
      "\u001b[31m---------------------------------------------------------------------------\u001b[39m",
      "\u001b[31mImportError\u001b[39m                               Traceback (most recent call last)",
      "\u001b[36mCell\u001b[39m\u001b[36m \u001b[39m\u001b[32mIn[4]\u001b[39m\u001b[32m, line 1\u001b[39m\n\u001b[32m----> \u001b[39m\u001b[32m1\u001b[39m \u001b[38;5;28;01mfrom\u001b[39;00m\u001b[38;5;250m \u001b[39m\u001b[34;01mscripts\u001b[39;00m\u001b[34;01m.\u001b[39;00m\u001b[34;01mtime_series_analysis\u001b[39;00m\u001b[38;5;250m \u001b[39m\u001b[38;5;28;01mimport\u001b[39;00m TimeSeriesAnalyzer\n",
      "\u001b[36mFile \u001b[39m\u001b[32md:\\Week1\\Sentiment-analysis-for-stock\\scripts\\time_series_analysis.py:3\u001b[39m\n\u001b[32m      1\u001b[39m \u001b[38;5;28;01mimport\u001b[39;00m\u001b[38;5;250m \u001b[39m\u001b[34;01mnumpy\u001b[39;00m\u001b[38;5;250m \u001b[39m\u001b[38;5;28;01mas\u001b[39;00m\u001b[38;5;250m \u001b[39m\u001b[34;01mnp\u001b[39;00m  \u001b[38;5;66;03m# noqa: F401\u001b[39;00m\n\u001b[32m      2\u001b[39m \u001b[38;5;28;01mimport\u001b[39;00m\u001b[38;5;250m \u001b[39m\u001b[34;01mpandas\u001b[39;00m\u001b[38;5;250m \u001b[39m\u001b[38;5;28;01mas\u001b[39;00m\u001b[38;5;250m \u001b[39m\u001b[34;01mpd\u001b[39;00m\n\u001b[32m----> \u001b[39m\u001b[32m3\u001b[39m \u001b[38;5;28;01mimport\u001b[39;00m\u001b[38;5;250m \u001b[39m\u001b[34;01mpandas_ta\u001b[39;00m\u001b[38;5;250m \u001b[39m\u001b[38;5;28;01mas\u001b[39;00m\u001b[38;5;250m \u001b[39m\u001b[34;01mta\u001b[39;00m\n\u001b[32m      4\u001b[39m \u001b[38;5;28;01mfrom\u001b[39;00m\u001b[38;5;250m \u001b[39m\u001b[34;01mstatsmodels\u001b[39;00m\u001b[34;01m.\u001b[39;00m\u001b[34;01mtsa\u001b[39;00m\u001b[34;01m.\u001b[39;00m\u001b[34;01mseasonal\u001b[39;00m\u001b[38;5;250m \u001b[39m\u001b[38;5;28;01mimport\u001b[39;00m seasonal_decompose\n\u001b[32m      5\u001b[39m \u001b[38;5;28;01mfrom\u001b[39;00m\u001b[38;5;250m \u001b[39m\u001b[34;01mstatsmodels\u001b[39;00m\u001b[34;01m.\u001b[39;00m\u001b[34;01mtsa\u001b[39;00m\u001b[34;01m.\u001b[39;00m\u001b[34;01mstattools\u001b[39;00m\u001b[38;5;250m \u001b[39m\u001b[38;5;28;01mimport\u001b[39;00m adfuller, kpss\n",
      "\u001b[36mFile \u001b[39m\u001b[32md:\\Week1\\Sentiment-analysis-for-stock\\env\\Lib\\site-packages\\pandas_ta\\__init__.py:116\u001b[39m\n\u001b[32m     97\u001b[39m EXCHANGE_TZ = {\n\u001b[32m     98\u001b[39m     \u001b[33m\"\u001b[39m\u001b[33mNZSX\u001b[39m\u001b[33m\"\u001b[39m: \u001b[32m12\u001b[39m, \u001b[33m\"\u001b[39m\u001b[33mASX\u001b[39m\u001b[33m\"\u001b[39m: \u001b[32m11\u001b[39m,\n\u001b[32m     99\u001b[39m     \u001b[33m\"\u001b[39m\u001b[33mTSE\u001b[39m\u001b[33m\"\u001b[39m: \u001b[32m9\u001b[39m, \u001b[33m\"\u001b[39m\u001b[33mHKE\u001b[39m\u001b[33m\"\u001b[39m: \u001b[32m8\u001b[39m, \u001b[33m\"\u001b[39m\u001b[33mSSE\u001b[39m\u001b[33m\"\u001b[39m: \u001b[32m8\u001b[39m, \u001b[33m\"\u001b[39m\u001b[33mSGX\u001b[39m\u001b[33m\"\u001b[39m: \u001b[32m8\u001b[39m,\n\u001b[32m   (...)\u001b[39m\u001b[32m    102\u001b[39m     \u001b[33m\"\u001b[39m\u001b[33mBMF\u001b[39m\u001b[33m\"\u001b[39m: -\u001b[32m2\u001b[39m, \u001b[33m\"\u001b[39m\u001b[33mNYSE\u001b[39m\u001b[33m\"\u001b[39m: -\u001b[32m4\u001b[39m, \u001b[33m\"\u001b[39m\u001b[33mTSX\u001b[39m\u001b[33m\"\u001b[39m: -\u001b[32m4\u001b[39m\n\u001b[32m    103\u001b[39m }\n\u001b[32m    105\u001b[39m RATE = {\n\u001b[32m    106\u001b[39m     \u001b[33m\"\u001b[39m\u001b[33mDAYS_PER_MONTH\u001b[39m\u001b[33m\"\u001b[39m: \u001b[32m21\u001b[39m,\n\u001b[32m    107\u001b[39m     \u001b[33m\"\u001b[39m\u001b[33mMINUTES_PER_HOUR\u001b[39m\u001b[33m\"\u001b[39m: \u001b[32m60\u001b[39m,\n\u001b[32m   (...)\u001b[39m\u001b[32m    113\u001b[39m     \u001b[33m\"\u001b[39m\u001b[33mYEARLY\u001b[39m\u001b[33m\"\u001b[39m: \u001b[32m1\u001b[39m,\n\u001b[32m    114\u001b[39m }\n\u001b[32m--> \u001b[39m\u001b[32m116\u001b[39m \u001b[38;5;28;01mfrom\u001b[39;00m\u001b[38;5;250m \u001b[39m\u001b[34;01mpandas_ta\u001b[39;00m\u001b[34;01m.\u001b[39;00m\u001b[34;01mcore\u001b[39;00m\u001b[38;5;250m \u001b[39m\u001b[38;5;28;01mimport\u001b[39;00m *\n",
      "\u001b[36mFile \u001b[39m\u001b[32md:\\Week1\\Sentiment-analysis-for-stock\\env\\Lib\\site-packages\\pandas_ta\\core.py:18\u001b[39m\n\u001b[32m     16\u001b[39m \u001b[38;5;28;01mfrom\u001b[39;00m\u001b[38;5;250m \u001b[39m\u001b[34;01mpandas_ta\u001b[39;00m\u001b[34;01m.\u001b[39;00m\u001b[34;01mcandles\u001b[39;00m\u001b[38;5;250m \u001b[39m\u001b[38;5;28;01mimport\u001b[39;00m *\n\u001b[32m     17\u001b[39m \u001b[38;5;28;01mfrom\u001b[39;00m\u001b[38;5;250m \u001b[39m\u001b[34;01mpandas_ta\u001b[39;00m\u001b[34;01m.\u001b[39;00m\u001b[34;01mcycles\u001b[39;00m\u001b[38;5;250m \u001b[39m\u001b[38;5;28;01mimport\u001b[39;00m *\n\u001b[32m---> \u001b[39m\u001b[32m18\u001b[39m \u001b[38;5;28;01mfrom\u001b[39;00m\u001b[38;5;250m \u001b[39m\u001b[34;01mpandas_ta\u001b[39;00m\u001b[34;01m.\u001b[39;00m\u001b[34;01mmomentum\u001b[39;00m\u001b[38;5;250m \u001b[39m\u001b[38;5;28;01mimport\u001b[39;00m *\n\u001b[32m     19\u001b[39m \u001b[38;5;28;01mfrom\u001b[39;00m\u001b[38;5;250m \u001b[39m\u001b[34;01mpandas_ta\u001b[39;00m\u001b[34;01m.\u001b[39;00m\u001b[34;01moverlap\u001b[39;00m\u001b[38;5;250m \u001b[39m\u001b[38;5;28;01mimport\u001b[39;00m *\n\u001b[32m     20\u001b[39m \u001b[38;5;28;01mfrom\u001b[39;00m\u001b[38;5;250m \u001b[39m\u001b[34;01mpandas_ta\u001b[39;00m\u001b[34;01m.\u001b[39;00m\u001b[34;01mperformance\u001b[39;00m\u001b[38;5;250m \u001b[39m\u001b[38;5;28;01mimport\u001b[39;00m *\n",
      "\u001b[36mFile \u001b[39m\u001b[32md:\\Week1\\Sentiment-analysis-for-stock\\env\\Lib\\site-packages\\pandas_ta\\momentum\\__init__.py:34\u001b[39m\n\u001b[32m     32\u001b[39m \u001b[38;5;28;01mfrom\u001b[39;00m\u001b[38;5;250m \u001b[39m\u001b[34;01m.\u001b[39;00m\u001b[34;01msmi\u001b[39;00m\u001b[38;5;250m \u001b[39m\u001b[38;5;28;01mimport\u001b[39;00m smi\n\u001b[32m     33\u001b[39m \u001b[38;5;28;01mfrom\u001b[39;00m\u001b[38;5;250m \u001b[39m\u001b[34;01m.\u001b[39;00m\u001b[34;01msqueeze\u001b[39;00m\u001b[38;5;250m \u001b[39m\u001b[38;5;28;01mimport\u001b[39;00m squeeze\n\u001b[32m---> \u001b[39m\u001b[32m34\u001b[39m \u001b[38;5;28;01mfrom\u001b[39;00m\u001b[38;5;250m \u001b[39m\u001b[34;01m.\u001b[39;00m\u001b[34;01msqueeze_pro\u001b[39;00m\u001b[38;5;250m \u001b[39m\u001b[38;5;28;01mimport\u001b[39;00m squeeze_pro\n\u001b[32m     35\u001b[39m \u001b[38;5;28;01mfrom\u001b[39;00m\u001b[38;5;250m \u001b[39m\u001b[34;01m.\u001b[39;00m\u001b[34;01mstc\u001b[39;00m\u001b[38;5;250m \u001b[39m\u001b[38;5;28;01mimport\u001b[39;00m stc\n\u001b[32m     36\u001b[39m \u001b[38;5;28;01mfrom\u001b[39;00m\u001b[38;5;250m \u001b[39m\u001b[34;01m.\u001b[39;00m\u001b[34;01mstoch\u001b[39;00m\u001b[38;5;250m \u001b[39m\u001b[38;5;28;01mimport\u001b[39;00m stoch\n",
      "\u001b[36mFile \u001b[39m\u001b[32md:\\Week1\\Sentiment-analysis-for-stock\\env\\Lib\\site-packages\\pandas_ta\\momentum\\squeeze_pro.py:2\u001b[39m\n\u001b[32m      1\u001b[39m \u001b[38;5;66;03m# -*- coding: utf-8 -*-\u001b[39;00m\n\u001b[32m----> \u001b[39m\u001b[32m2\u001b[39m \u001b[38;5;28;01mfrom\u001b[39;00m\u001b[38;5;250m \u001b[39m\u001b[34;01mnumpy\u001b[39;00m\u001b[38;5;250m \u001b[39m\u001b[38;5;28;01mimport\u001b[39;00m NaN \u001b[38;5;28;01mas\u001b[39;00m npNaN\n\u001b[32m      3\u001b[39m \u001b[38;5;28;01mfrom\u001b[39;00m\u001b[38;5;250m \u001b[39m\u001b[34;01mpandas\u001b[39;00m\u001b[38;5;250m \u001b[39m\u001b[38;5;28;01mimport\u001b[39;00m DataFrame\n\u001b[32m      4\u001b[39m \u001b[38;5;28;01mfrom\u001b[39;00m\u001b[38;5;250m \u001b[39m\u001b[34;01mpandas_ta\u001b[39;00m\u001b[34;01m.\u001b[39;00m\u001b[34;01mmomentum\u001b[39;00m\u001b[38;5;250m \u001b[39m\u001b[38;5;28;01mimport\u001b[39;00m mom\n",
      "\u001b[31mImportError\u001b[39m: cannot import name 'NaN' from 'numpy' (d:\\Week1\\Sentiment-analysis-for-stock\\env\\Lib\\site-packages\\numpy\\__init__.py)"
     ]
    }
   ],
   "source": [
    "from scripts.time_series_analysis import TimeSeriesAnalyzer"
   ]
  },
  {
   "cell_type": "code",
   "execution_count": null,
   "id": "d431b1f0",
   "metadata": {},
   "outputs": [],
   "source": [
    "# Load AAPL data\n",
    "df = pd.read_csv('../data/raw/historical/AAPL_historical_data.csv')\n",
    "print(\"Data loaded successfully\")\n",
    "df.head()"
   ]
  },
  {
   "cell_type": "code",
   "execution_count": null,
   "id": "f6817974",
   "metadata": {},
   "outputs": [],
   "source": [
    "# Initialize analyzer\n",
    "analyzer = TimeSeriesAnalyzer(\n",
    "    data=df,\n",
    "    date_col='Date',\n",
    "    value_col='Close',\n",
    "    open_col='Open',\n",
    "    high_col='High',\n",
    "    low_col='Low',\n",
    "    volume_col='Volume'\n",
    ")\n",
    "\n",
    "# Calculate indicators\n",
    "indicators = analyzer.calculate_technical_indicators(\n",
    "    sma_period=20,\n",
    "    ema_period=20,\n",
    "    rsi_period=14,\n",
    "    macd_fast=12,\n",
    "    macd_slow=26,\n",
    "    macd_signal=9,\n",
    "    bollinger_period=20,\n",
    "    bollinger_std=2\n",
    ")\n",
    "\n",
    "print(\"Indicators calculated successfully\")\n",
    "indicators.head()"
   ]
  },
  {
   "cell_type": "code",
   "execution_count": null,
   "id": "db11d398",
   "metadata": {},
   "outputs": [],
   "source": [
    "# Plot indicators\n",
    "analyzer.plot_indicators(ticker='AAPL')"
   ]
  },
  {
   "cell_type": "code",
   "execution_count": null,
   "id": "1da4e7bb",
   "metadata": {},
   "outputs": [],
   "source": [
    "# Generate summary\n",
    "summary = analyzer.summarize()\n",
    "print(\"Summary Statistics:\")\n",
    "summary"
   ]
  },
  {
   "cell_type": "code",
   "execution_count": null,
   "id": "f2bc1be2",
   "metadata": {},
   "outputs": [],
   "source": [
    "# Plot time series decomposition\n",
    "analyzer.plot_decomposition(freq=252)  # Using 252 trading days"
   ]
  },
  {
   "cell_type": "code",
   "execution_count": null,
   "id": "a2cfec9b",
   "metadata": {},
   "outputs": [],
   "source": [
    "# Test stationarity\n",
    "analyzer.test_stationarity()"
   ]
  },
  {
   "cell_type": "code",
   "execution_count": null,
   "id": "1a7f5fde",
   "metadata": {},
   "outputs": [],
   "source": [
    "# Plot ACF and PACF\n",
    "analyzer.plot_acf_pacf(lags=40)"
   ]
  },
  {
   "cell_type": "code",
   "execution_count": null,
   "id": "24011412",
   "metadata": {},
   "outputs": [],
   "source": [
    "# Analyze cycles\n",
    "analyzer.plot_cycle_irregular_components(lambda_=1600)"
   ]
  },
  {
   "cell_type": "code",
   "execution_count": null,
   "id": "31f27bba",
   "metadata": {},
   "outputs": [],
   "source": [
    "# Fit ARIMA model\n",
    "model_fit = analyzer.fit_arima(order=(1, 1, 1))\n",
    "print(\"ARIMA Model Summary:\")\n",
    "print(model_fit.summary())"
   ]
  }
 ],
 "metadata": {
  "kernelspec": {
   "display_name": "Python 3",
   "language": "python",
   "name": "python3"
  },
  "language_info": {
   "codemirror_mode": {
    "name": "ipython",
    "version": 3
   },
   "file_extension": ".py",
   "mimetype": "text/x-python",
   "name": "python",
   "nbconvert_exporter": "python",
   "pygments_lexer": "ipython3",
   "version": "3.11.12"
  }
 },
 "nbformat": 4,
 "nbformat_minor": 5
}
