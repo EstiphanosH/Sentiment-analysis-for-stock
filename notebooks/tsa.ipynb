{
 "cells": [
  {
   "cell_type": "markdown",
   "id": "11b52016",
   "metadata": {},
   "source": [
    "# Stock Market Time Series Analysis\n",
    "\n",
    "This notebook provides a comprehensive analysis of stock market data using:\n",
    "1. Technical indicators (SMA, EMA, RSI, MACD, Bollinger Bands)\n",
    "2. Statistical analysis and visualization\n",
    "3. Time series decomposition and stationarity tests\n",
    "4. ARIMA modeling"
   ]
  },
  {
   "cell_type": "code",
   "execution_count": 1,
   "id": "2898a027",
   "metadata": {},
   "outputs": [],
   "source": [
    "# 1: Setup\n",
    "import sys\n",
    "import os\n",
    "import pandas as pd\n",
    "import numpy as np\n",
    "import plotly.graph_objects as go\n",
    "\n",
    "scripts_path = os.path.abspath(os.path.join(os.getcwd(), '..', 'scripts'))\n",
    "if scripts_path not in sys.path:\n",
    "    sys.path.append(scripts_path)\n",
    "from scripts.time_series_analysis import TimeSeriesAnalyzer"
   ]
  },
  {
   "cell_type": "code",
   "execution_count": 2,
   "id": "ea42ee38",
   "metadata": {},
   "outputs": [
    {
     "name": "stdout",
     "output_type": "stream",
     "text": [
      "✅ Loaded AAPL_historical_data: (10998, 9)\n",
      "✅ Loaded AMZN_historical_data: (6846, 9)\n",
      "✅ Loaded GOOG_historical_data: (5020, 9)\n",
      "✅ Loaded META_historical_data: (2926, 9)\n",
      "✅ Loaded MSFT_historical_data: (9672, 9)\n",
      "✅ Loaded NVDA_historical_data: (6421, 9)\n",
      "✅ Loaded TSLA_historical_data: (3545, 9)\n"
     ]
    }
   ],
   "source": [
    "# 2: Load Multiple DataFrames\n",
    "import glob\n",
    "\n",
    "data_dir = os.path.abspath(os.path.join('..', 'data', 'raw', 'historical'))\n",
    "csv_files = glob.glob(os.path.join(data_dir, '*.csv'))\n",
    "\n",
    "dataframes = {}\n",
    "for file in csv_files:\n",
    "    name = os.path.splitext(os.path.basename(file))[0]\n",
    "    try:\n",
    "        df = pd.read_csv(file)\n",
    "        dataframes[name] = df\n",
    "        print(f\"✅ Loaded {name}: {df.shape}\")\n",
    "    except Exception as e:\n",
    "        print(f\"❌ Failed to load {name}: {e}\")"
   ]
  },
  {
   "cell_type": "code",
   "execution_count": 3,
   "id": "d431b1f0",
   "metadata": {},
   "outputs": [
    {
     "data": {
      "application/vnd.jupyter.widget-view+json": {
       "model_id": "5fcec07ed311485ea3aa0ca69f615b4a",
       "version_major": 2,
       "version_minor": 0
      },
      "text/plain": [
       "interactive(children=(Dropdown(description='Dataset:', options=('AAPL_historical_data', 'AMZN_historical_data'…"
      ]
     },
     "metadata": {},
     "output_type": "display_data"
    }
   ],
   "source": [
    "# 3: Interactive Analysis for Any Dataset\n",
    "from ipywidgets import Dropdown, interact\n",
    "\n",
    "def analyze_selected(selected_name):\n",
    "    df = dataframes[selected_name]\n",
    "    print(f\"\\n--- Analyzing {selected_name} ---\")\n",
    "    analyzer = TimeSeriesAnalyzer(\n",
    "        data=df,\n",
    "        date_col='Date',\n",
    "        value_col='Close',\n",
    "        open_col='Open',\n",
    "        high_col='High',\n",
    "        low_col='Low',\n",
    "        volume_col='Volume'\n",
    "    )\n",
    "    analyzer.plot_series(title=f\"{selected_name} Close Price Time Series\")\n",
    "    analyzer.plot_decomposition(freq=252)\n",
    "    stationarity = analyzer.test_stationarity()\n",
    "    print(\"ADF Test:\", stationarity['ADF'])\n",
    "    print(\"KPSS Test:\", stationarity['KPSS'])\n",
    "    analyzer.plot_acf_pacf(lags=40)\n",
    "    indicators = analyzer.calculate_technical_indicators()\n",
    "    print(\"✅ Technical indicators calculated\")\n",
    "    display(indicators.tail())\n",
    "    model_fit = analyzer.fit_arima(order=(1, 1, 1))\n",
    "    analyzer.forecast(steps=30)\n",
    "    analyzer.save_summary_pdf(pdf_path=f\"tsa_summary_{selected_name}.pdf\")\n",
    "\n",
    "if dataframes:\n",
    "    interact(analyze_selected, selected_name=Dropdown(options=list(dataframes.keys()), description='Dataset:'))\n",
    "else:\n",
    "    print(\"No dataframes loaded.\")"
   ]
  }
 ],
 "metadata": {
  "kernelspec": {
   "display_name": "Python 3",
   "language": "python",
   "name": "python3"
  },
  "language_info": {
   "codemirror_mode": {
    "name": "ipython",
    "version": 3
   },
   "file_extension": ".py",
   "mimetype": "text/x-python",
   "name": "python",
   "nbconvert_exporter": "python",
   "pygments_lexer": "ipython3",
   "version": "3.11.12"
  }
 },
 "nbformat": 4,
 "nbformat_minor": 5
}
