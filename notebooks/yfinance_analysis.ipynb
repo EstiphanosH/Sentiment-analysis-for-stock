{
 "cells": [
  {
   "cell_type": "code",
   "execution_count": 17,
   "metadata": {},
   "outputs": [],
   "source": [
    "#import \n",
    "import os\n",
    "import yfinance as yf"
   ]
  },
  {
   "cell_type": "code",
   "execution_count": 27,
   "metadata": {},
   "outputs": [
    {
     "name": "stderr",
     "output_type": "stream",
     "text": [
      "[*********************100%***********************]  1 of 1 completed\n"
     ]
    },
    {
     "name": "stdout",
     "output_type": "stream",
     "text": [
      "AAPL Head:\n",
      " Price          Close      High       Low      Open     Volume\n",
      "Ticker          AAPL      AAPL      AAPL      AAPL       AAPL\n",
      "Date                                                         \n",
      "2000-01-03  0.841048  0.845274  0.764034  0.787983  535796800\n",
      "2000-01-04  0.770139  0.831186  0.760277  0.813341  512377600\n",
      "2000-01-05  0.781408  0.830716  0.773895  0.779530  778321600\n",
      "2000-01-06  0.713787  0.803949  0.713787  0.797375  767972800\n",
      "2000-01-07  0.747598  0.758868  0.717544  0.725057  460734400 \n",
      "\n"
     ]
    },
    {
     "name": "stderr",
     "output_type": "stream",
     "text": [
      "[*********************100%***********************]  1 of 1 completed\n"
     ]
    },
    {
     "name": "stdout",
     "output_type": "stream",
     "text": [
      "AMZN Head:\n",
      " Price          Close      High       Low      Open     Volume\n",
      "Ticker          AMZN      AMZN      AMZN      AMZN       AMZN\n",
      "Date                                                         \n",
      "2000-01-03  4.468750  4.478125  3.952344  4.075000  322352000\n",
      "2000-01-04  4.096875  4.575000  4.087500  4.268750  349748000\n",
      "2000-01-05  3.487500  3.756250  3.400000  3.525000  769148000\n",
      "2000-01-06  3.278125  3.634375  3.200000  3.565625  375040000\n",
      "2000-01-07  3.478125  3.525000  3.309375  3.350000  210108000 \n",
      "\n"
     ]
    },
    {
     "name": "stderr",
     "output_type": "stream",
     "text": [
      "[*********************100%***********************]  1 of 1 completed\n"
     ]
    },
    {
     "name": "stdout",
     "output_type": "stream",
     "text": [
      "GOOG Head:\n",
      " Price          Close      High       Low      Open     Volume\n",
      "Ticker          GOOG      GOOG      GOOG      GOOG       GOOG\n",
      "Date                                                         \n",
      "2004-08-19  2.487352  2.579567  2.378775  2.478923  897427216\n",
      "2004-08-20  2.684922  2.704009  2.491318  2.503960  458857488\n",
      "2004-08-23  2.711942  2.813082  2.703266  2.745408  366857939\n",
      "2004-08-24  2.599647  2.766478  2.567421  2.757554  306396159\n",
      "2004-08-25  2.627658  2.677237  2.575105  2.601877  184645512 \n",
      "\n"
     ]
    },
    {
     "name": "stderr",
     "output_type": "stream",
     "text": [
      "[*********************100%***********************]  1 of 1 completed\n"
     ]
    },
    {
     "name": "stdout",
     "output_type": "stream",
     "text": [
      "META Head:\n",
      " Price           Close       High        Low       Open     Volume\n",
      "Ticker           META       META       META       META       META\n",
      "Date                                                             \n",
      "2012-05-18  38.050667  44.788910  37.821746  41.852747  573576400\n",
      "2012-05-21  33.870369  36.488033  32.845202  36.358642  168192700\n",
      "2012-05-22  30.854582  33.432433  30.794864  32.457030  101786600\n",
      "2012-05-23  31.849892  32.347546  31.212894  31.222848   73600000\n",
      "2012-05-24  32.875061  33.054217  31.620973  32.795438   50237200 \n",
      "\n"
     ]
    },
    {
     "name": "stderr",
     "output_type": "stream",
     "text": [
      "[*********************100%***********************]  1 of 1 completed\n"
     ]
    },
    {
     "name": "stdout",
     "output_type": "stream",
     "text": [
      "MSFT Head:\n",
      " Price           Close       High        Low       Open    Volume\n",
      "Ticker           MSFT       MSFT       MSFT       MSFT      MSFT\n",
      "Date                                                            \n",
      "2000-01-03  35.726723  36.358885  34.328304  35.975756  53228400\n",
      "2000-01-04  34.519871  35.899133  34.404932  34.807217  54119000\n",
      "2000-01-05  34.883842  35.669256  33.523737  34.060116  64059600\n",
      "2000-01-06  33.715290  34.902988  33.217223  34.385765  54976600\n",
      "2000-01-07  34.155884  34.404917  32.891561  33.293845  62013600 \n",
      "\n"
     ]
    },
    {
     "name": "stderr",
     "output_type": "stream",
     "text": [
      "[*********************100%***********************]  1 of 1 completed\n"
     ]
    },
    {
     "name": "stdout",
     "output_type": "stream",
     "text": [
      "NVDA Head:\n",
      " Price          Close      High       Low      Open     Volume\n",
      "Ticker          NVDA      NVDA      NVDA      NVDA       NVDA\n",
      "Date                                                         \n",
      "2000-01-03  0.089431  0.090984  0.084297  0.090268  300912000\n",
      "2000-01-04  0.087044  0.088118  0.082625  0.087879  300480000\n",
      "2000-01-05  0.084178  0.085969  0.082984  0.084536  188352000\n",
      "2000-01-06  0.078685  0.084178  0.075462  0.084178  120480000\n",
      "2000-01-07  0.079999  0.080835  0.077134  0.078327   71184000 \n",
      "\n"
     ]
    },
    {
     "name": "stderr",
     "output_type": "stream",
     "text": [
      "[*********************100%***********************]  1 of 1 completed"
     ]
    },
    {
     "name": "stdout",
     "output_type": "stream",
     "text": [
      "TSLA Head:\n",
      " Price          Close      High       Low      Open     Volume\n",
      "Ticker          TSLA      TSLA      TSLA      TSLA       TSLA\n",
      "Date                                                         \n",
      "2010-06-29  1.592667  1.666667  1.169333  1.266667  281494500\n",
      "2010-06-30  1.588667  2.028000  1.553333  1.719333  257806500\n",
      "2010-07-01  1.464000  1.728000  1.351333  1.666667  123282000\n",
      "2010-07-02  1.280000  1.540000  1.247333  1.533333   77097000\n",
      "2010-07-06  1.074000  1.333333  1.055333  1.333333  103003500 \n",
      "\n"
     ]
    },
    {
     "name": "stderr",
     "output_type": "stream",
     "text": [
      "\n"
     ]
    }
   ],
   "source": [
    "# Define the directory to save CSV files\n",
    "\n",
    "tickers = [\"AAPL\", \"AMZN\", \"GOOG\", \"META\", \"MSFT\", \"NVDA\", \"TSLA\"]\n",
    "data = {}\n",
    "for ticker in tickers:\n",
    "    df = yf.download(tickers=ticker, start=\"2000-01-01\", end=\"2024-12-31\", interval=\"1d\")\n",
    "    data[ticker] = df\n",
    "    print(f\"{ticker} Head:\\n\", df.head(5), \"\\n\")"
   ]
  },
  {
   "cell_type": "code",
   "execution_count": 26,
   "metadata": {},
   "outputs": [],
   "source": [
    "# Save each ticker's data to a CSV file with a custom filename\n",
    "save_dir = \"../data/raw/downloaded\"\n",
    "os.makedirs(save_dir, exist_ok=True)  # Create directory if it doesn't exist\n",
    "for ticker in data:\n",
    "    df = data[ticker]\n",
    "    filename = f\"{ticker}_yfdata_download.csv\"\n",
    "    filepath = os.path.join(save_dir, filename)\n",
    "    df.to_csv(filepath)"
   ]
  },
  {
   "cell_type": "code",
   "execution_count": null,
   "metadata": {},
   "outputs": [],
   "source": [
    "from scripts.eda_analysis import InteractiveDataAnalyzer\n",
    "from scripts.sentiment_analysis import NewsNLPAnalyzer\n",
    "from scripts.time_series_analysis import TimeSeriesAnalyzer\n",
    "from scripts.correlation_analysis import CorrelationAnalyzer\n",
    "\n",
    "# Initialize the analyzer\n",
    "analyzer = InteractiveDataAnalyzer(data=data)\n",
    "\n",
    "# Clean the data\n",
    "analyzer.clean_data()\n",
    "\n"
   ]
  }
 ],
 "metadata": {
  "kernelspec": {
   "display_name": "Python 3",
   "language": "python",
   "name": "python3"
  },
  "language_info": {
   "codemirror_mode": {
    "name": "ipython",
    "version": 3
   },
   "file_extension": ".py",
   "mimetype": "text/x-python",
   "name": "python",
   "nbconvert_exporter": "python",
   "pygments_lexer": "ipython3",
   "version": "3.11.12"
  }
 },
 "nbformat": 4,
 "nbformat_minor": 2
}
