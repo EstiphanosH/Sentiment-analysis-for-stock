{
 "cells": [
  {
   "cell_type": "markdown",
   "id": "307f33aa",
   "metadata": {},
   "source": [
    "\n",
    "# News Sentiment Analysis and Topic Modeling Notebook\n",
    "\n",
    "This notebook demonstrates how to use the `NewsNLPAnalyzer` class for:\n",
    "- Loading news data from a CSV file with columns: `headline`, `url`, `publisher`, `date`, `stock_ticker`\n",
    "- Cleaning and preprocessing text\n",
    "- Conducting sentiment analysis using TextBlob and VADER\n",
    "- Performing topic modeling (LDA) to identify main topics in headlines\n",
    "- Visualizing sentiment scores and topic keywords interactively with Plotly\n"
   ]
  },
  {
   "cell_type": "code",
   "execution_count": null,
   "id": "28e2a5d9",
   "metadata": {},
   "outputs": [],
   "source": [
    "# 1: Setup\n",
    "import sys\n",
    "import os\n",
    "import pandas as pd\n",
    "import numpy as np\n",
    "import plotly.graph_objects as go\n",
    "import plotly.express as px\n",
    "\n",
    "scripts_path = os.path.abspath(os.path.join(os.getcwd(), '..', 'scripts'))\n",
    "if scripts_path not in sys.path:\n",
    "    sys.path.append(scripts_path)\n",
    "from scripts.sentiment_analysis import NewsNLPAnalyzer"
   ]
  },
  {
   "cell_type": "code",
   "execution_count": null,
   "id": "de9322bc",
   "metadata": {},
   "outputs": [],
   "source": [
    "# 2: Load News Data\n",
    "import glob\n",
    "\n",
    "data_dir = os.path.abspath(os.path.join('..', 'data', 'raw'))\n",
    "csv_files = glob.glob(os.path.join(data_dir, '*.csv'))\n",
    "\n",
    "dataframes = {}\n",
    "for file in csv_files:\n",
    "    name = os.path.splitext(os.path.basename(file))[0]\n",
    "    try:\n",
    "        df = pd.read_csv(file)\n",
    "        dataframes[name] = df\n",
    "        print(f\"✅ Loaded {name}: {df.shape}\")\n",
    "    except Exception as e:\n",
    "        print(f\"❌ Failed to load {name}: {e}\")"
   ]
  },
  {
   "cell_type": "code",
   "execution_count": null,
   "id": "07c9a793",
   "metadata": {},
   "outputs": [],
   "source": [
    "# 3: Interactive Sentiment Analysis for Any News Dataset\n",
    "from ipywidgets import Dropdown, interact\n",
    "\n",
    "def analyze_news_sentiment(selected_name, text_column='headline'):\n",
    "    df = dataframes[selected_name]\n",
    "    print(f\"\\n--- Sentiment Analysis for {selected_name} ---\")\n",
    "    analyzer = NewsNLPAnalyzer(data=df, text_column=text_column)\n",
    "    analyzer.calculate_sentiments()\n",
    "    analyzer.extract_keywords(top_n=20)\n",
    "    analyzer.plot_sentiment_comparison()\n",
    "    analyzer.plot_vader_distribution()\n",
    "    analyzer.plot_topic_keywords()\n",
    "    analyzer.save_summary_pdf(pdf_path=f\"sentiment_summary_{selected_name}.pdf\")\n",
    "    print(f\"PDF summary saved as sentiment_summary_{selected_name}.pdf\")\n",
    "\n",
    "if dataframes:\n",
    "    # You may need to adjust 'headline' to match your news text column\n",
    "    interact(analyze_news_sentiment, \n",
    "             selected_name=Dropdown(options=list(dataframes.keys()), description='Dataset:'),\n",
    "             text_column='headline')\n",
    "else:\n",
    "    print(\"No dataframes loaded.\")"
   ]
  }
 ],
 "metadata": {
  "kernelspec": {
   "display_name": "Python 3",
   "language": "python",
   "name": "python3"
  },
  "language_info": {
   "codemirror_mode": {
    "name": "ipython",
    "version": 3
   },
   "file_extension": ".py",
   "mimetype": "text/x-python",
   "name": "python",
   "nbconvert_exporter": "python",
   "pygments_lexer": "ipython3",
   "version": "3.11.12"
  }
 },
 "nbformat": 4,
 "nbformat_minor": 5
}
