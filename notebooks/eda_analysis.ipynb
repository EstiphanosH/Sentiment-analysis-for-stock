{
 "cells": [
  {
   "cell_type": "code",
   "execution_count": 1,
   "metadata": {},
   "outputs": [],
   "source": [
    "import sys\n",
    "import os\n",
    "\n",
    "sys.path.append(os.path.abspath(os.path.join('..', 'src')))"
   ]
  },
  {
   "cell_type": "code",
   "execution_count": 3,
   "metadata": {},
   "outputs": [
    {
     "ename": "ModuleNotFoundError",
     "evalue": "No module named 'pandas'",
     "output_type": "error",
     "traceback": [
      "\u001b[31m---------------------------------------------------------------------------\u001b[39m",
      "\u001b[31mModuleNotFoundError\u001b[39m                       Traceback (most recent call last)",
      "\u001b[36mCell\u001b[39m\u001b[36m \u001b[39m\u001b[32mIn[3]\u001b[39m\u001b[32m, line 2\u001b[39m\n\u001b[32m      1\u001b[39m \u001b[38;5;66;03m# [1] Setup\u001b[39;00m\n\u001b[32m----> \u001b[39m\u001b[32m2\u001b[39m \u001b[38;5;28;01mimport\u001b[39;00m\u001b[38;5;250m \u001b[39m\u001b[34;01mpandas\u001b[39;00m\u001b[38;5;250m \u001b[39m\u001b[38;5;28;01mas\u001b[39;00m\u001b[38;5;250m \u001b[39m\u001b[34;01mpd\u001b[39;00m\n\u001b[32m      3\u001b[39m \u001b[38;5;28;01mfrom\u001b[39;00m\u001b[38;5;250m \u001b[39m\u001b[34;01mscripts\u001b[39;00m\u001b[34;01m.\u001b[39;00m\u001b[34;01mquantitative_analysis\u001b[39;00m\u001b[38;5;250m \u001b[39m\u001b[38;5;28;01mimport\u001b[39;00m QuantitativeAnalyzer\n\u001b[32m      4\u001b[39m \u001b[38;5;28;01mfrom\u001b[39;00m\u001b[38;5;250m \u001b[39m\u001b[34;01mscripts\u001b[39;00m\u001b[34;01m.\u001b[39;00m\u001b[34;01msentiment_analysis\u001b[39;00m\u001b[38;5;250m \u001b[39m\u001b[38;5;28;01mimport\u001b[39;00m SentimentAnalyzer\n",
      "\u001b[31mModuleNotFoundError\u001b[39m: No module named 'pandas'"
     ]
    }
   ],
   "source": [
    "# [1] Setup\n",
    "import pandas as pd\n",
    "from scripts.quantitative_analysis import QuantitativeAnalyzer\n",
    "from scripts.sentiment_analysis import SentimentAnalyzer\n",
    "from scripts.correlation_analysis import CorrelationAnalyzer\n",
    "import matplotlib.pyplot as plt\n",
    "%matplotlib inline\n",
    "import pandas as pd\n",
    "print(pd.__version__)\n"
   ]
  },
  {
   "cell_type": "code",
   "execution_count": 7,
   "metadata": {},
   "outputs": [
    {
     "ename": "NameError",
     "evalue": "name 'pd' is not defined",
     "output_type": "error",
     "traceback": [
      "\u001b[31m---------------------------------------------------------------------------\u001b[39m",
      "\u001b[31mNameError\u001b[39m                                 Traceback (most recent call last)",
      "\u001b[36mCell\u001b[39m\u001b[36m \u001b[39m\u001b[32mIn[7]\u001b[39m\u001b[32m, line 4\u001b[39m\n\u001b[32m      1\u001b[39m \u001b[38;5;66;03m# [2] Load Data\u001b[39;00m\n\u001b[32m      2\u001b[39m tickers = [\u001b[33m'\u001b[39m\u001b[33mAAPL\u001b[39m\u001b[33m'\u001b[39m, \u001b[33m'\u001b[39m\u001b[33mMSFT\u001b[39m\u001b[33m'\u001b[39m, \u001b[33m'\u001b[39m\u001b[33mGOOG\u001b[39m\u001b[33m'\u001b[39m, \u001b[33m'\u001b[39m\u001b[33mMETA\u001b[39m\u001b[33m'\u001b[39m, \u001b[33m'\u001b[39m\u001b[33mNVDA\u001b[39m\u001b[33m'\u001b[39m, \u001b[33m'\u001b[39m\u001b[33mTSLA\u001b[39m\u001b[33m'\u001b[39m, \u001b[33m'\u001b[39m\u001b[33mAMZN\u001b[39m\u001b[33m'\u001b[39m]\n\u001b[32m      3\u001b[39m price_data = {\n\u001b[32m----> \u001b[39m\u001b[32m4\u001b[39m     t: \u001b[43mpd\u001b[49m.read_csv(\u001b[33mf\u001b[39m\u001b[33m'\u001b[39m\u001b[33m../data/raw/\u001b[39m\u001b[38;5;132;01m{\u001b[39;00mt\u001b[38;5;132;01m}\u001b[39;00m\u001b[33m_historical_data.csv\u001b[39m\u001b[33m'\u001b[39m) \n\u001b[32m      5\u001b[39m     \u001b[38;5;28;01mfor\u001b[39;00m t \u001b[38;5;129;01min\u001b[39;00m tickers\n\u001b[32m      6\u001b[39m }\n\u001b[32m      7\u001b[39m news_data = pd.read_csv(\u001b[33m'\u001b[39m\u001b[33m../data/raw/raw_analyst_ratings.csv\u001b[39m\u001b[33m'\u001b[39m)\n",
      "\u001b[31mNameError\u001b[39m: name 'pd' is not defined"
     ]
    }
   ],
   "source": [
    "# [2] Load Data\n",
    "tickers = ['AAPL', 'MSFT', 'GOOG', 'META', 'NVDA', 'TSLA', 'AMZN']\n",
    "price_data = {\n",
    "    t: pd.read_csv(f'../data/raw/{t}_historical_data.csv') \n",
    "    for t in tickers\n",
    "}\n",
    "news_data = pd.read_csv('../data/raw/raw_analyst_ratings.csv')"
   ]
  },
  {
   "cell_type": "code",
   "execution_count": null,
   "metadata": {},
   "outputs": [],
   "source": [
    "\n",
    "# [3] Technical Analysis\n",
    "technical_results = {}\n",
    "for ticker, df in price_data.items():\n",
    "    qa = QuantitativeAnalyzer(df, ticker)\n",
    "    qa.compute_indicators()\n",
    "    technical_results[ticker] = qa.df\n",
    "    qa.export_results('output')\n",
    "\n",
    "# [4] Sentiment Analysis\n",
    "sa = SentimentAnalyzer(news_data)\n",
    "sa.analyze_sentiment()\n",
    "sa.analyze_topics()\n",
    "\n",
    "# Show publisher stats\n",
    "display(sa.get_publisher_stats().head())\n",
    "\n",
    "# [5] Correlation Analysis\n",
    "ca = CorrelationAnalyzer(technical_results, sa.df)\n",
    "correlations = ca.analyze()\n",
    "\n",
    "print(\"AAPL Correlations:\")\n",
    "display(correlations['AAPL'])\n",
    "\n",
    "# [6] Combined Visualization\n",
    "fig, ax = plt.subplots(figsize=(10, 6))\n",
    "for ticker in tickers:\n",
    "    ax.plot(\n",
    "        correlations[ticker].index,\n",
    "        correlations[ticker]['sentiment'],\n",
    "        label=ticker\n",
    "    )\n",
    "ax.set_title('Sentiment-Tech Indicator Correlations')\n",
    "ax.legend()\n",
    "plt.show()"
   ]
  }
 ],
 "metadata": {
  "kernelspec": {
   "display_name": "Python 3",
   "language": "python",
   "name": "python3"
  },
  "language_info": {
   "codemirror_mode": {
    "name": "ipython",
    "version": 3
   },
   "file_extension": ".py",
   "mimetype": "text/x-python",
   "name": "python",
   "nbconvert_exporter": "python",
   "pygments_lexer": "ipython3",
   "version": "3.13.3"
  }
 },
 "nbformat": 4,
 "nbformat_minor": 2
}
