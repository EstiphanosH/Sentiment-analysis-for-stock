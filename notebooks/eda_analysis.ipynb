{
 "cells": [
  {
   "cell_type": "markdown",
   "id": "80441223",
   "metadata": {},
   "source": [
    "## EDA Analysis"
   ]
  },
  {
   "cell_type": "markdown",
   "id": "331eb7e2",
   "metadata": {},
   "source": []
  },
  {
   "cell_type": "code",
   "execution_count": 7,
   "id": "7560a9ed",
   "metadata": {},
   "outputs": [],
   "source": [
    "# 1: Setup\n",
    "import sys\n",
    "import os\n",
    "\n",
    "# Add scripts directory to sys.path\n",
    "scripts_path = os.path.abspath(os.path.join(os.getcwd(), '..', 'scripts'))\n",
    "if scripts_path not in sys.path:\n",
    "    sys.path.append(scripts_path)\n",
    "\n",
    "import pandas as pd\n",
    "from scripts.eda_analysis import InteractiveDataAnalyzer"
   ]
  },
  {
   "cell_type": "code",
   "execution_count": 8,
   "id": "8a373669",
   "metadata": {},
   "outputs": [
    {
     "name": "stdout",
     "output_type": "stream",
     "text": [
      "✅ Loaded AAPL_historical_data: (10998, 9)\n",
      "✅ Loaded AMZN_historical_data: (6846, 9)\n",
      "✅ Loaded GOOG_historical_data: (5020, 9)\n",
      "✅ Loaded META_historical_data: (2926, 9)\n",
      "✅ Loaded MSFT_historical_data: (9672, 9)\n",
      "✅ Loaded NVDA_historical_data: (6421, 9)\n",
      "✅ Loaded TSLA_historical_data: (3545, 9)\n",
      "✅ Loaded raw_analyst_ratings: (1407328, 6)\n"
     ]
    }
   ],
   "source": [
    "# 2: Load Multiple DataFrames\n",
    "import glob\n",
    "\n",
    "data_dir = os.path.abspath(os.path.join('..', 'data', 'raw', 'historical'))\n",
    "csv_files = glob.glob(os.path.join(data_dir, '*.csv'))\n",
    "\n",
    "# Also include news and analytics ratings if present\n",
    "extra_files = [os.path.abspath(os.path.join('..', 'data', 'raw', 'raw_analyst_ratings.csv'))]\n",
    "for ef in extra_files:\n",
    "    if os.path.exists(ef):\n",
    "        csv_files.append(ef)\n",
    "\n",
    "dataframes = {}\n",
    "for file in csv_files:\n",
    "    name = os.path.splitext(os.path.basename(file))[0]\n",
    "    try:\n",
    "        df = pd.read_csv(file)\n",
    "        dataframes[name] = df\n",
    "        print(f\"✅ Loaded {name}: {df.shape}\")\n",
    "    except Exception as e:\n",
    "        print(f\"❌ Failed to load {name}: {e}\")\n",
    "        "
   ]
  },
  {
   "cell_type": "code",
   "execution_count": 9,
   "id": "ec4525e5",
   "metadata": {},
   "outputs": [
    {
     "data": {
      "application/vnd.jupyter.widget-view+json": {
       "model_id": "8efb69104ce84a00a30607247ab16c73",
       "version_major": 2,
       "version_minor": 0
      },
      "text/plain": [
       "interactive(children=(Dropdown(description='Dataset:', options=('AAPL_historical_data', 'AMZN_historical_data'…"
      ]
     },
     "metadata": {},
     "output_type": "display_data"
    }
   ],
   "source": [
    "# 3: Interactive EDA for Any Dataset (Stock or News)\n",
    "from ipywidgets import Dropdown, interact\n",
    "\n",
    "if dataframes:\n",
    "    df_selector = Dropdown(options=list(dataframes.keys()), description='Dataset:')\n",
    "    def run_eda(selected_name):\n",
    "        print(f\"\\n--- EDA for {selected_name} ---\")\n",
    "        try:\n",
    "            analyzer = InteractiveDataAnalyzer(dataframes[selected_name])\n",
    "            analyzer.interactive_summary(\n",
    "                save_pdf=True, \n",
    "                pdf_path=f\"eda_{selected_name}.pdf\"\n",
    "            )\n",
    "        except Exception as e:\n",
    "            print(f\"❌ Error analyzing {selected_name}: {e}\")\n",
    "    interact(run_eda, selected_name=df_selector)\n",
    "else:\n",
    "    print(\"No dataframes loaded.\")"
   ]
  },
  {
   "cell_type": "code",
   "execution_count": null,
   "id": "8068734a",
   "metadata": {},
   "outputs": [],
   "source": [
    "# 4: (Optional) Direct EDA for News Dataset\n",
    "# This cell is useful if you want to always run EDA on news data and save a PDF, regardless of interactive selection.\n",
    "\n",
    "if 'raw_analyst_ratings' in dataframes:\n",
    "    print(\"\\n=== News Data EDA (raw_analyst_ratings) ===\")\n",
    "    news_analyzer = InteractiveDataAnalyzer(dataframes['raw_analyst_ratings'])\n",
    "    news_analyzer.interactive_summary(\n",
    "        save_pdf=True, \n",
    "        pdf_path=\"../reports/pdfs/eda_raw_analyst_ratings.pdf\"\n",
    "    )\n",
    "else:\n",
    "    print(\"No news data loaded (raw_analyst_ratings.csv not found in dataframes).\")"
   ]
  }
 ],
 "metadata": {
  "kernelspec": {
   "display_name": "Python 3",
   "language": "python",
   "name": "python3"
  },
  "language_info": {
   "codemirror_mode": {
    "name": "ipython",
    "version": 3
   },
   "file_extension": ".py",
   "mimetype": "text/x-python",
   "name": "python",
   "nbconvert_exporter": "python",
   "pygments_lexer": "ipython3",
   "version": "3.11.12"
  }
 },
 "nbformat": 4,
 "nbformat_minor": 5
}
